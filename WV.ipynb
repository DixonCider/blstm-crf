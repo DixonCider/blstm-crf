{
 "cells": [
  {
   "cell_type": "code",
   "execution_count": 1,
   "metadata": {},
   "outputs": [
    {
     "name": "stdout",
     "output_type": "stream",
     "text": [
      "/home/r1/referenceExtraction\n"
     ]
    }
   ],
   "source": [
    "%cd /home/r1/referenceExtraction"
   ]
  },
  {
   "cell_type": "code",
   "execution_count": 2,
   "metadata": {},
   "outputs": [],
   "source": [
    "import sys\n",
    "doc = [ ]\n",
    "file = open('AllMerge_normalize.txt', 'r', encoding='UTF-8')\n",
    "for line in file.readlines():\n",
    "    words = line.split(' ')\n",
    "    doc.append(words)\n",
    "file.close()\n",
    "\n",
    "#print(doc[1])\n",
    "\n",
    "#print(len(doc))"
   ]
  },
  {
   "cell_type": "code",
   "execution_count": 3,
   "metadata": {
    "scrolled": false
   },
   "outputs": [],
   "source": [
    "from gensim.models import Word2Vec\n",
    "from gensim.test.utils import datapath\n",
    "\n",
    "model = Word2Vec(doc, size=300, window=7, min_count=0, workers=4, iter=100)\n",
    "#model.save(\"reference.model\")\n",
    "model.wv.save_word2vec_format(\"reference_Dim300.kv\", binary=False)\n",
    "\n",
    "    "
   ]
  },
  {
   "cell_type": "code",
   "execution_count": 4,
   "metadata": {
    "scrolled": true
   },
   "outputs": [
    {
     "name": "stdout",
     "output_type": "stream",
     "text": [
      "Tabulated: 0.3734\n",
      "Comb: 0.3347\n",
      "Computing: 0.3315\n",
      "Systems: 0.3209\n",
      "Resilience: 0.3024\n",
      "Mediators: 0.3006\n",
      "Conflicting: 0.2952\n",
      "Mergeable: 0.2946\n",
      "Assemblers: 0.2808\n",
      "Retrieval: 0.2789\n"
     ]
    }
   ],
   "source": [
    "result = model.wv.similar_by_word(\"Control\")\n",
    "\n",
    "for x in result:\n",
    "    print(\"{}: {:.4f}\".format(*x))\n"
   ]
  },
  {
   "cell_type": "code",
   "execution_count": null,
   "metadata": {},
   "outputs": [],
   "source": []
  }
 ],
 "metadata": {
  "kernelspec": {
   "display_name": "Python 3",
   "language": "python",
   "name": "python3"
  },
  "language_info": {
   "codemirror_mode": {
    "name": "ipython",
    "version": 3
   },
   "file_extension": ".py",
   "mimetype": "text/x-python",
   "name": "python",
   "nbconvert_exporter": "python",
   "pygments_lexer": "ipython3",
   "version": "3.6.6"
  }
 },
 "nbformat": 4,
 "nbformat_minor": 2
}
